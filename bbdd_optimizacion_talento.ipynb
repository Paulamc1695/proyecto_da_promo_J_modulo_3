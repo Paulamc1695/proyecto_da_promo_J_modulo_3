{
 "cells": [
  {
   "cell_type": "markdown",
   "metadata": {},
   "source": [
    "### **FASE 3. DISEÑO DE BBDD E INSERCIÓN DE LOS DATOS**"
   ]
  },
  {
   "cell_type": "markdown",
   "metadata": {},
   "source": [
    "Librerías:"
   ]
  },
  {
   "cell_type": "code",
   "execution_count": null,
   "metadata": {},
   "outputs": [],
   "source": [
    "# Importar librería para la conexión con MySQL\n",
    "# --------------------------------------------\n",
    "import mysql.connector\n",
    "from mysql.connector import errorcode"
   ]
  },
  {
   "cell_type": "markdown",
   "metadata": {},
   "source": [
    " **A. CONEXIÓN CON SQL**"
   ]
  },
  {
   "cell_type": "code",
   "execution_count": null,
   "metadata": {},
   "outputs": [],
   "source": [
    "# Conectar a SQL\n",
    "cnx = mysql.connector.connect(user='root', password='AlumnaAdalab',\n",
    "                              host='127.0.0.1')\n",
    "# Crear cursor\n",
    "mycursor = cnx.cursor()\n",
    "\n",
    "# Crear base de datos\n",
    "try:\n",
    "    mycursor.execute(\"CREATE DATABASE BBDD_OptimizacionTalento\")\n",
    "    print(mycursor)\n",
    "except mysql.connector.Error as err: # verificar si hay errores\n",
    "    print(err)\n",
    "    print(\"Error Code:\", err.errno)\n",
    "    print(\"SQLSTATE\", err.sqlstate)\n",
    "    print(\"Message\", err.msg)"
   ]
  },
  {
   "cell_type": "markdown",
   "metadata": {},
   "source": [
    "**B. UBICACIÓN BBDD \"OPTIMIZACIONTALENTO\" Y CREACIÓN DE TABLAS CON SUS COLUMNAS**"
   ]
  },
  {
   "cell_type": "markdown",
   "metadata": {},
   "source": [
    "- **B.1.** TABLA 1"
   ]
  },
  {
   "cell_type": "code",
   "execution_count": null,
   "metadata": {},
   "outputs": [],
   "source": [
    "# Seleccionar la base de datos\n",
    "try:\n",
    "    mycursor.execute(\"USE BBDD_OptimizacionTalento\")\n",
    "    print(\"Base de datos seleccionada correctamente.\")\n",
    "except mysql.connector.Error as err:\n",
    "    print(\"Error al seleccionar la base de datos.\")\n",
    "    print(\"Código de Error:\", err.errno)\n",
    "    print(\"SQLSTATE:\", err.sqlstate)\n",
    "    print(\"Mensaje:\", err.msg)\n",
    "    \n",
    "# Crear tabla 1 = datos_peliculas, sus columnas y sus tipos de datos\n",
    "try:\n",
    "    mycursor.execute(\"\"\"\n",
    "    CREATE TABLE tabla_1 (\n",
    "        columna_1 VARCHAR(15) PRIMARY KEY, \n",
    "        columna_2 VARCHAR(100), \n",
    "        columna_3 VARCHAR(50) NOT NULL, \n",
    "        columna_4 INT NOT NULL, \n",
    "        columna_5 VARCHAR(20) NOT NULL\n",
    "    )\n",
    "    \"\"\")\n",
    "    print(\"Tabla 'tabla_1' creada exitosamente.\")\n",
    "except mysql.connector.Error as err:\n",
    "    print(\"Se produjo un error al crear la tabla_1.\")\n",
    "    print(\"Código de Error:\", err.errno)\n",
    "    print(\"SQLSTATE:\", err.sqlstate)\n",
    "    print(\"Mensaje:\", err.msg)"
   ]
  },
  {
   "cell_type": "markdown",
   "metadata": {},
   "source": [
    "- **B.2.** TABLA 2"
   ]
  },
  {
   "cell_type": "code",
   "execution_count": null,
   "metadata": {},
   "outputs": [],
   "source": [
    "# Seleccionar la base de datos\n",
    "try:\n",
    "    mycursor.execute(\"USE BBDD_OptimizacionTalento\")\n",
    "    print(\"Base de datos seleccionada correctamente.\")\n",
    "except mysql.connector.Error as err:\n",
    "    print(\"Error al seleccionar la base de datos.\")\n",
    "    print(\"Código de Error:\", err.errno)\n",
    "    print(\"SQLSTATE:\", err.sqlstate)\n",
    "    print(\"Mensaje:\", err.msg)\n",
    "    \n",
    "# Crear tabla 1 = datos_peliculas, sus columnas y sus tipos de datos\n",
    "try:\n",
    "    mycursor.execute(\"\"\"\n",
    "    CREATE TABLE tabla_2 (\n",
    "        columna_1 VARCHAR(15) PRIMARY KEY, \n",
    "        columna_2 VARCHAR(100), \n",
    "        columna_3 VARCHAR(50) NOT NULL, \n",
    "        columna_4 INT NOT NULL, \n",
    "        columna_5 VARCHAR(20) NOT NULL\n",
    "    )\n",
    "    \"\"\")\n",
    "    print(\"Tabla 'tabla_2' creada exitosamente.\")\n",
    "except mysql.connector.Error as err:\n",
    "    print(\"Se produjo un error al crear la tabla_2.\")\n",
    "    print(\"Código de Error:\", err.errno)\n",
    "    print(\"SQLSTATE:\", err.sqlstate)\n",
    "    print(\"Mensaje:\", err.msg)"
   ]
  },
  {
   "cell_type": "markdown",
   "metadata": {},
   "source": [
    "**C. INSERCIÓN DE DATOS EN LAS TABLAS**"
   ]
  },
  {
   "cell_type": "markdown",
   "metadata": {},
   "source": [
    "- **C.1.** TABLA 1"
   ]
  },
  {
   "cell_type": "code",
   "execution_count": null,
   "metadata": {},
   "outputs": [],
   "source": [
    "# Insertar datos dentro de la tabla 1\n",
    "\n",
    "sql = \"INSERT INTO tabla_1 (columna_1, columna_2, columna_3, columna_4, columna_5) VALUES (%s,%s,%s,%s,%s) \"\n",
    "tabla_1 = nombre_tabla_1\n",
    "\n",
    "try: \n",
    "    mycursor.executemany(sql, tabla_1)\n",
    "    cnx.commit()\n",
    "    print(mycursor.rowcount, \"registro/s insertado/s.\")\n",
    "\n",
    "except mysql.connector.Error as err:\n",
    "    print(err)\n",
    "    print(\"Error Code:\", err.errno)\n",
    "    print(\"SQLSTATE\", err.sqlstate)\n",
    "    print(\"Message\", err.msg)"
   ]
  },
  {
   "cell_type": "markdown",
   "metadata": {},
   "source": [
    "- **C.2.** TABLA 2"
   ]
  },
  {
   "cell_type": "code",
   "execution_count": null,
   "metadata": {},
   "outputs": [],
   "source": [
    "# Insertar datos dentro de la tabla 2\n",
    "\n",
    "sql = \"INSERT INTO tabla_2 (columna_1, columna_2, columna_3, columna_4, columna_5) VALUES (%s,%s,%s,%s,%s) \"\n",
    "tabla_2 = nombre_tabla_2\n",
    "\n",
    "try: \n",
    "    mycursor.executemany(sql, tabla_2)\n",
    "    cnx.commit()\n",
    "    print(mycursor.rowcount, \"registro/s insertado/s.\")\n",
    "\n",
    "except mysql.connector.Error as err:\n",
    "    print(err)\n",
    "    print(\"Error Code:\", err.errno)\n",
    "    print(\"SQLSTATE\", err.sqlstate)\n",
    "    print(\"Message\", err.msg)"
   ]
  },
  {
   "cell_type": "markdown",
   "metadata": {},
   "source": [
    "- **Z. CERRAR CONEXIÓN CON SQL**"
   ]
  },
  {
   "cell_type": "code",
   "execution_count": null,
   "metadata": {},
   "outputs": [],
   "source": [
    "# Cerrar el cursor y la conexión a la base de datos\n",
    "try:\n",
    "    # Si el cursor está abierto, ciérralo\n",
    "    if mycursor:\n",
    "        mycursor.close()\n",
    "    \n",
    "    # Si la conexión está abierta, ciérrala\n",
    "    if cnx:\n",
    "        cnx.close()\n",
    "    \n",
    "    print(\"Conexión cerrada correctamente.\")\n",
    "except mysql.connector.Error as err:\n",
    "    print(\"Error al cerrar la conexión:\", err)"
   ]
  }
 ],
 "metadata": {
  "language_info": {
   "name": "python"
  }
 },
 "nbformat": 4,
 "nbformat_minor": 2
}
