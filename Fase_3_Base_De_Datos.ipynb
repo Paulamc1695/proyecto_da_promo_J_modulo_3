{
 "cells": [
  {
   "cell_type": "markdown",
   "metadata": {},
   "source": [
    "## **FASE 3: DISEÑO, CREACIÓN DE BBDD INSERCIÓN DE DATOS**"
   ]
  },
  {
   "cell_type": "markdown",
   "metadata": {},
   "source": [
    "- **Librerías**"
   ]
  },
  {
   "cell_type": "code",
   "execution_count": 1,
   "metadata": {},
   "outputs": [],
   "source": [
    "# importar librerías\n",
    "\n",
    "# Tratamiento de datos\n",
    "# -----------------------------------------------------------------------\n",
    "import pandas as pd\n",
    "import numpy as np\n",
    "\n",
    "# Libreria Regex para buscar patrones\n",
    "# -----------------------------------------------------------------------\n",
    "import re\n",
    "\n",
    "# Imputación de nulos usando métodos avanzados estadísticos\n",
    "# -----------------------------------------------------------------------\n",
    "from sklearn.impute import SimpleImputer\n",
    "from sklearn.experimental import enable_iterative_imputer\n",
    "from sklearn.impute import IterativeImputer\n",
    "from sklearn.impute import KNNImputer\n",
    "\n",
    "# Librerías de visualización\n",
    "# -----------------------------------------------------------------------\n",
    "import seaborn as sns\n",
    "import matplotlib.pyplot as plt\n",
    "\n",
    "# Configuración\n",
    "# -----------------------------------------------------------------------\n",
    "pd.set_option('display.max_columns', None) # para poder visualizar todas las columnas de los DataFrames\n",
    "pd.set_option('display.max_rows', None)\n",
    "pd.set_option('display.max_colwidth', None)\n",
    "\n",
    "# Ajusta el ancho de la consola para evitar truncamientos\n",
    "# -----------------------------------------------------------------------\n",
    "pd.set_option(\"display.width\", 1000) \n",
    "\n",
    "# Importar librería para la conexión con MySQL\n",
    "# --------------------------------------------\n",
    "import mysql.connector\n",
    "from mysql.connector import errorcode\n",
    "\n",
    "# Importar otras librerías para manipulación y análisis de datos\n",
    "# -----------------------------------------------------------------------\n",
    "import csv"
   ]
  },
  {
   "cell_type": "markdown",
   "metadata": {},
   "source": [
    "- **Lectura csv**"
   ]
  },
  {
   "cell_type": "code",
   "execution_count": 2,
   "metadata": {},
   "outputs": [
    {
     "data": {
      "text/html": [
       "<div>\n",
       "<style scoped>\n",
       "    .dataframe tbody tr th:only-of-type {\n",
       "        vertical-align: middle;\n",
       "    }\n",
       "\n",
       "    .dataframe tbody tr th {\n",
       "        vertical-align: top;\n",
       "    }\n",
       "\n",
       "    .dataframe thead th {\n",
       "        text-align: right;\n",
       "    }\n",
       "</style>\n",
       "<table border=\"1\" class=\"dataframe\">\n",
       "  <thead>\n",
       "    <tr style=\"text-align: right;\">\n",
       "      <th></th>\n",
       "      <th>age</th>\n",
       "      <th>attrition</th>\n",
       "      <th>business_travel</th>\n",
       "      <th>daily_rate</th>\n",
       "      <th>department</th>\n",
       "      <th>distance_from_home</th>\n",
       "      <th>education</th>\n",
       "      <th>education_field</th>\n",
       "      <th>employee_count</th>\n",
       "      <th>employee_number</th>\n",
       "      <th>environment_satisfaction</th>\n",
       "      <th>gender</th>\n",
       "      <th>hourly_rate</th>\n",
       "      <th>job_involvement</th>\n",
       "      <th>job_level</th>\n",
       "      <th>job_role</th>\n",
       "      <th>job_satisfaction</th>\n",
       "      <th>marital_status</th>\n",
       "      <th>monthly_income</th>\n",
       "      <th>monthly_rate</th>\n",
       "      <th>num_companies_worked</th>\n",
       "      <th>over_time</th>\n",
       "      <th>percent_salary_hike</th>\n",
       "      <th>performance_rating</th>\n",
       "      <th>relationship_satisfaction</th>\n",
       "      <th>standard_hours</th>\n",
       "      <th>stock_option_level</th>\n",
       "      <th>total_working_years</th>\n",
       "      <th>training_times_last_year</th>\n",
       "      <th>work_life_balance</th>\n",
       "      <th>years_at_company</th>\n",
       "      <th>years_since_last_promotion</th>\n",
       "      <th>years_with_curr_manager</th>\n",
       "      <th>year_birth</th>\n",
       "      <th>salary</th>\n",
       "      <th>remote_work</th>\n",
       "    </tr>\n",
       "  </thead>\n",
       "  <tbody>\n",
       "    <tr>\n",
       "      <th>0</th>\n",
       "      <td>51</td>\n",
       "      <td>No</td>\n",
       "      <td>Unknown</td>\n",
       "      <td>684.0</td>\n",
       "      <td>Research &amp; Development</td>\n",
       "      <td>6</td>\n",
       "      <td>3</td>\n",
       "      <td>Other</td>\n",
       "      <td>1</td>\n",
       "      <td>162.0</td>\n",
       "      <td>1</td>\n",
       "      <td>Male</td>\n",
       "      <td>51.0</td>\n",
       "      <td>3</td>\n",
       "      <td>5</td>\n",
       "      <td>Research Director</td>\n",
       "      <td>3</td>\n",
       "      <td>Unknown</td>\n",
       "      <td>19537.0</td>\n",
       "      <td>6462</td>\n",
       "      <td>7</td>\n",
       "      <td>No</td>\n",
       "      <td>13</td>\n",
       "      <td>3</td>\n",
       "      <td>3</td>\n",
       "      <td>40</td>\n",
       "      <td>0</td>\n",
       "      <td>11.25</td>\n",
       "      <td>5</td>\n",
       "      <td>3.00</td>\n",
       "      <td>20</td>\n",
       "      <td>15</td>\n",
       "      <td>15</td>\n",
       "      <td>1972</td>\n",
       "      <td>246240.0</td>\n",
       "      <td>Yes</td>\n",
       "    </tr>\n",
       "    <tr>\n",
       "      <th>1</th>\n",
       "      <td>52</td>\n",
       "      <td>No</td>\n",
       "      <td>Unknown</td>\n",
       "      <td>699.0</td>\n",
       "      <td>Research &amp; Development</td>\n",
       "      <td>1</td>\n",
       "      <td>4</td>\n",
       "      <td>Life Sciences</td>\n",
       "      <td>1</td>\n",
       "      <td>259.0</td>\n",
       "      <td>3</td>\n",
       "      <td>Male</td>\n",
       "      <td>65.0</td>\n",
       "      <td>2</td>\n",
       "      <td>5</td>\n",
       "      <td>Manager</td>\n",
       "      <td>3</td>\n",
       "      <td>Unknown</td>\n",
       "      <td>19999.0</td>\n",
       "      <td>5678</td>\n",
       "      <td>0</td>\n",
       "      <td>No</td>\n",
       "      <td>14</td>\n",
       "      <td>3</td>\n",
       "      <td>1</td>\n",
       "      <td>40</td>\n",
       "      <td>1</td>\n",
       "      <td>34.00</td>\n",
       "      <td>5</td>\n",
       "      <td>3.00</td>\n",
       "      <td>33</td>\n",
       "      <td>11</td>\n",
       "      <td>9</td>\n",
       "      <td>1971</td>\n",
       "      <td>251640.0</td>\n",
       "      <td>Yes</td>\n",
       "    </tr>\n",
       "    <tr>\n",
       "      <th>2</th>\n",
       "      <td>42</td>\n",
       "      <td>No</td>\n",
       "      <td>travel rarely</td>\n",
       "      <td>532.0</td>\n",
       "      <td>Research &amp; Development</td>\n",
       "      <td>4</td>\n",
       "      <td>2</td>\n",
       "      <td>Technical Degree</td>\n",
       "      <td>1</td>\n",
       "      <td>319.0</td>\n",
       "      <td>3</td>\n",
       "      <td>Male</td>\n",
       "      <td>58.0</td>\n",
       "      <td>3</td>\n",
       "      <td>5</td>\n",
       "      <td>Manager</td>\n",
       "      <td>4</td>\n",
       "      <td>Married</td>\n",
       "      <td>19232.0</td>\n",
       "      <td>4933</td>\n",
       "      <td>1</td>\n",
       "      <td>No</td>\n",
       "      <td>11</td>\n",
       "      <td>3</td>\n",
       "      <td>4</td>\n",
       "      <td>40</td>\n",
       "      <td>0</td>\n",
       "      <td>22.00</td>\n",
       "      <td>3</td>\n",
       "      <td>2.77</td>\n",
       "      <td>22</td>\n",
       "      <td>11</td>\n",
       "      <td>15</td>\n",
       "      <td>1981</td>\n",
       "      <td>191520.0</td>\n",
       "      <td>Yes</td>\n",
       "    </tr>\n",
       "    <tr>\n",
       "      <th>3</th>\n",
       "      <td>47</td>\n",
       "      <td>No</td>\n",
       "      <td>travel rarely</td>\n",
       "      <td>359.0</td>\n",
       "      <td>Research &amp; Development</td>\n",
       "      <td>2</td>\n",
       "      <td>4</td>\n",
       "      <td>Medical</td>\n",
       "      <td>1</td>\n",
       "      <td>1708.0</td>\n",
       "      <td>1</td>\n",
       "      <td>Female</td>\n",
       "      <td>82.0</td>\n",
       "      <td>3</td>\n",
       "      <td>4</td>\n",
       "      <td>Research Director</td>\n",
       "      <td>3</td>\n",
       "      <td>Married</td>\n",
       "      <td>17169.0</td>\n",
       "      <td>26703</td>\n",
       "      <td>3</td>\n",
       "      <td>No</td>\n",
       "      <td>19</td>\n",
       "      <td>3</td>\n",
       "      <td>2</td>\n",
       "      <td>40</td>\n",
       "      <td>2</td>\n",
       "      <td>11.25</td>\n",
       "      <td>2</td>\n",
       "      <td>2.77</td>\n",
       "      <td>20</td>\n",
       "      <td>5</td>\n",
       "      <td>6</td>\n",
       "      <td>1976</td>\n",
       "      <td>129240.0</td>\n",
       "      <td>No</td>\n",
       "    </tr>\n",
       "    <tr>\n",
       "      <th>4</th>\n",
       "      <td>48</td>\n",
       "      <td>No</td>\n",
       "      <td>Unknown</td>\n",
       "      <td>117.0</td>\n",
       "      <td>Research &amp; Development</td>\n",
       "      <td>22</td>\n",
       "      <td>3</td>\n",
       "      <td>Medical</td>\n",
       "      <td>1</td>\n",
       "      <td>1900.0</td>\n",
       "      <td>4</td>\n",
       "      <td>Female</td>\n",
       "      <td>58.0</td>\n",
       "      <td>3</td>\n",
       "      <td>4</td>\n",
       "      <td>Manager</td>\n",
       "      <td>4</td>\n",
       "      <td>Unknown</td>\n",
       "      <td>17174.0</td>\n",
       "      <td>2437</td>\n",
       "      <td>3</td>\n",
       "      <td>No</td>\n",
       "      <td>11</td>\n",
       "      <td>3</td>\n",
       "      <td>2</td>\n",
       "      <td>40</td>\n",
       "      <td>1</td>\n",
       "      <td>11.25</td>\n",
       "      <td>3</td>\n",
       "      <td>3.00</td>\n",
       "      <td>22</td>\n",
       "      <td>4</td>\n",
       "      <td>7</td>\n",
       "      <td>1975</td>\n",
       "      <td>42120.0</td>\n",
       "      <td>Yes</td>\n",
       "    </tr>\n",
       "  </tbody>\n",
       "</table>\n",
       "</div>"
      ],
      "text/plain": [
       "   age attrition business_travel  daily_rate              department  distance_from_home  education   education_field  employee_count  employee_number  environment_satisfaction  gender  hourly_rate  job_involvement  job_level           job_role  job_satisfaction marital_status  monthly_income  monthly_rate  num_companies_worked over_time  percent_salary_hike  performance_rating  relationship_satisfaction  standard_hours  stock_option_level  total_working_years  training_times_last_year  work_life_balance  years_at_company  years_since_last_promotion  years_with_curr_manager  year_birth    salary remote_work\n",
       "0   51        No         Unknown       684.0  Research & Development                   6          3             Other               1            162.0                         1    Male         51.0                3          5  Research Director                 3        Unknown         19537.0          6462                     7        No                   13                   3                          3              40                   0                11.25                         5               3.00                20                          15                       15        1972  246240.0         Yes\n",
       "1   52        No         Unknown       699.0  Research & Development                   1          4     Life Sciences               1            259.0                         3    Male         65.0                2          5            Manager                 3        Unknown         19999.0          5678                     0        No                   14                   3                          1              40                   1                34.00                         5               3.00                33                          11                        9        1971  251640.0         Yes\n",
       "2   42        No   travel rarely       532.0  Research & Development                   4          2  Technical Degree               1            319.0                         3    Male         58.0                3          5            Manager                 4        Married         19232.0          4933                     1        No                   11                   3                          4              40                   0                22.00                         3               2.77                22                          11                       15        1981  191520.0         Yes\n",
       "3   47        No   travel rarely       359.0  Research & Development                   2          4           Medical               1           1708.0                         1  Female         82.0                3          4  Research Director                 3        Married         17169.0         26703                     3        No                   19                   3                          2              40                   2                11.25                         2               2.77                20                           5                        6        1976  129240.0          No\n",
       "4   48        No         Unknown       117.0  Research & Development                  22          3           Medical               1           1900.0                         4  Female         58.0                3          4            Manager                 4        Unknown         17174.0          2437                     3        No                   11                   3                          2              40                   1                11.25                         3               3.00                22                           4                        7        1975   42120.0         Yes"
      ]
     },
     "execution_count": 2,
     "metadata": {},
     "output_type": "execute_result"
    }
   ],
   "source": [
    "# Lectura del csv:\n",
    "\n",
    "df_abc = pd.read_csv(\"Dataset_HR_final.csv\", index_col = None)\n",
    "df_abc.head()"
   ]
  },
  {
   "cell_type": "markdown",
   "metadata": {},
   "source": [
    "- Data frame employees"
   ]
  },
  {
   "cell_type": "code",
   "execution_count": 3,
   "metadata": {},
   "outputs": [
    {
     "data": {
      "text/html": [
       "<div>\n",
       "<style scoped>\n",
       "    .dataframe tbody tr th:only-of-type {\n",
       "        vertical-align: middle;\n",
       "    }\n",
       "\n",
       "    .dataframe tbody tr th {\n",
       "        vertical-align: top;\n",
       "    }\n",
       "\n",
       "    .dataframe thead th {\n",
       "        text-align: right;\n",
       "    }\n",
       "</style>\n",
       "<table border=\"1\" class=\"dataframe\">\n",
       "  <thead>\n",
       "    <tr style=\"text-align: right;\">\n",
       "      <th></th>\n",
       "      <th>employee_number</th>\n",
       "      <th>age</th>\n",
       "      <th>gender</th>\n",
       "      <th>year_birth</th>\n",
       "      <th>marital_status</th>\n",
       "      <th>education</th>\n",
       "      <th>education_field</th>\n",
       "      <th>distance_from_home</th>\n",
       "      <th>total_working_years</th>\n",
       "      <th>num_companies_worked</th>\n",
       "    </tr>\n",
       "  </thead>\n",
       "  <tbody>\n",
       "    <tr>\n",
       "      <th>0</th>\n",
       "      <td>162.0</td>\n",
       "      <td>51</td>\n",
       "      <td>Male</td>\n",
       "      <td>1972</td>\n",
       "      <td>Unknown</td>\n",
       "      <td>3</td>\n",
       "      <td>Other</td>\n",
       "      <td>6</td>\n",
       "      <td>11.25</td>\n",
       "      <td>7</td>\n",
       "    </tr>\n",
       "    <tr>\n",
       "      <th>1</th>\n",
       "      <td>259.0</td>\n",
       "      <td>52</td>\n",
       "      <td>Male</td>\n",
       "      <td>1971</td>\n",
       "      <td>Unknown</td>\n",
       "      <td>4</td>\n",
       "      <td>Life Sciences</td>\n",
       "      <td>1</td>\n",
       "      <td>34.00</td>\n",
       "      <td>0</td>\n",
       "    </tr>\n",
       "  </tbody>\n",
       "</table>\n",
       "</div>"
      ],
      "text/plain": [
       "   employee_number  age gender  year_birth marital_status  education education_field  distance_from_home  total_working_years  num_companies_worked\n",
       "0            162.0   51   Male        1972        Unknown          3           Other                   6                11.25                     7\n",
       "1            259.0   52   Male        1971        Unknown          4   Life Sciences                   1                34.00                     0"
      ]
     },
     "execution_count": 3,
     "metadata": {},
     "output_type": "execute_result"
    }
   ],
   "source": [
    "# Tenemos 4 tablas y creamos 4 data frames\n",
    "\n",
    "df_employees = df_abc[[\"employee_number\", \"age\", \"gender\", \"year_birth\", \"marital_status\", \"education\", \"education_field\", \"distance_from_home\", \"total_working_years\", \"num_companies_worked\"]]\n",
    "df_employees.head(2)"
   ]
  },
  {
   "cell_type": "code",
   "execution_count": 4,
   "metadata": {},
   "outputs": [],
   "source": [
    "# convertimos en csv\n",
    "\n",
    "df_employees.to_csv('Dataset_employees_HR.csv', index= False)"
   ]
  },
  {
   "cell_type": "markdown",
   "metadata": {},
   "source": [
    "- Data frame job information"
   ]
  },
  {
   "cell_type": "code",
   "execution_count": 5,
   "metadata": {},
   "outputs": [
    {
     "data": {
      "text/html": [
       "<div>\n",
       "<style scoped>\n",
       "    .dataframe tbody tr th:only-of-type {\n",
       "        vertical-align: middle;\n",
       "    }\n",
       "\n",
       "    .dataframe tbody tr th {\n",
       "        vertical-align: top;\n",
       "    }\n",
       "\n",
       "    .dataframe thead th {\n",
       "        text-align: right;\n",
       "    }\n",
       "</style>\n",
       "<table border=\"1\" class=\"dataframe\">\n",
       "  <thead>\n",
       "    <tr style=\"text-align: right;\">\n",
       "      <th></th>\n",
       "      <th>employee_number</th>\n",
       "      <th>employee_count</th>\n",
       "      <th>job_role</th>\n",
       "      <th>department</th>\n",
       "      <th>job_level</th>\n",
       "      <th>training_times_last_year</th>\n",
       "      <th>remote_work</th>\n",
       "      <th>standard_hours</th>\n",
       "      <th>over_time</th>\n",
       "      <th>years_at_company</th>\n",
       "      <th>years_since_last_promotion</th>\n",
       "      <th>years_with_curr_manager</th>\n",
       "      <th>attrition</th>\n",
       "    </tr>\n",
       "  </thead>\n",
       "  <tbody>\n",
       "    <tr>\n",
       "      <th>0</th>\n",
       "      <td>162.0</td>\n",
       "      <td>1</td>\n",
       "      <td>Research Director</td>\n",
       "      <td>Research &amp; Development</td>\n",
       "      <td>5</td>\n",
       "      <td>5</td>\n",
       "      <td>Yes</td>\n",
       "      <td>40</td>\n",
       "      <td>No</td>\n",
       "      <td>20</td>\n",
       "      <td>15</td>\n",
       "      <td>15</td>\n",
       "      <td>No</td>\n",
       "    </tr>\n",
       "    <tr>\n",
       "      <th>1</th>\n",
       "      <td>259.0</td>\n",
       "      <td>1</td>\n",
       "      <td>Manager</td>\n",
       "      <td>Research &amp; Development</td>\n",
       "      <td>5</td>\n",
       "      <td>5</td>\n",
       "      <td>Yes</td>\n",
       "      <td>40</td>\n",
       "      <td>No</td>\n",
       "      <td>33</td>\n",
       "      <td>11</td>\n",
       "      <td>9</td>\n",
       "      <td>No</td>\n",
       "    </tr>\n",
       "  </tbody>\n",
       "</table>\n",
       "</div>"
      ],
      "text/plain": [
       "   employee_number  employee_count           job_role              department  job_level  training_times_last_year remote_work  standard_hours over_time  years_at_company  years_since_last_promotion  years_with_curr_manager attrition\n",
       "0            162.0               1  Research Director  Research & Development          5                         5         Yes              40        No                20                          15                       15        No\n",
       "1            259.0               1            Manager  Research & Development          5                         5         Yes              40        No                33                          11                        9        No"
      ]
     },
     "execution_count": 5,
     "metadata": {},
     "output_type": "execute_result"
    }
   ],
   "source": [
    "df_job_information = df_abc[[\"employee_number\",\"employee_count\",\"job_role\",\n",
    "    \"department\",\n",
    "    \"job_level\" ,\n",
    "    \"training_times_last_year\",\n",
    "    \"remote_work\",\n",
    "    \"standard_hours\",\n",
    "    \"over_time\",\n",
    "    \"years_at_company\",\n",
    "    \"years_since_last_promotion\",\n",
    "    \"years_with_curr_manager\",\n",
    "    \"attrition\"]]\n",
    "\n",
    "df_job_information.head(2)"
   ]
  },
  {
   "cell_type": "code",
   "execution_count": 6,
   "metadata": {},
   "outputs": [],
   "source": [
    "# convertimos en csv\n",
    "\n",
    "df_job_information.to_csv('Dataset_job_information_HR.csv', index= False)"
   ]
  },
  {
   "cell_type": "markdown",
   "metadata": {},
   "source": [
    "- Data frame job compesation"
   ]
  },
  {
   "cell_type": "code",
   "execution_count": 8,
   "metadata": {},
   "outputs": [
    {
     "data": {
      "text/html": [
       "<div>\n",
       "<style scoped>\n",
       "    .dataframe tbody tr th:only-of-type {\n",
       "        vertical-align: middle;\n",
       "    }\n",
       "\n",
       "    .dataframe tbody tr th {\n",
       "        vertical-align: top;\n",
       "    }\n",
       "\n",
       "    .dataframe thead th {\n",
       "        text-align: right;\n",
       "    }\n",
       "</style>\n",
       "<table border=\"1\" class=\"dataframe\">\n",
       "  <thead>\n",
       "    <tr style=\"text-align: right;\">\n",
       "      <th></th>\n",
       "      <th>employee_number</th>\n",
       "      <th>daily_rate</th>\n",
       "      <th>monthly_rate</th>\n",
       "      <th>monthly_income</th>\n",
       "      <th>hourly_rate</th>\n",
       "      <th>percent_salary_hike</th>\n",
       "      <th>salary</th>\n",
       "      <th>stock_option_level</th>\n",
       "    </tr>\n",
       "  </thead>\n",
       "  <tbody>\n",
       "    <tr>\n",
       "      <th>0</th>\n",
       "      <td>162.0</td>\n",
       "      <td>684.0</td>\n",
       "      <td>6462</td>\n",
       "      <td>19537.0</td>\n",
       "      <td>51.0</td>\n",
       "      <td>13</td>\n",
       "      <td>246240.0</td>\n",
       "      <td>0</td>\n",
       "    </tr>\n",
       "    <tr>\n",
       "      <th>1</th>\n",
       "      <td>259.0</td>\n",
       "      <td>699.0</td>\n",
       "      <td>5678</td>\n",
       "      <td>19999.0</td>\n",
       "      <td>65.0</td>\n",
       "      <td>14</td>\n",
       "      <td>251640.0</td>\n",
       "      <td>1</td>\n",
       "    </tr>\n",
       "  </tbody>\n",
       "</table>\n",
       "</div>"
      ],
      "text/plain": [
       "   employee_number  daily_rate  monthly_rate  monthly_income  hourly_rate  percent_salary_hike    salary  stock_option_level\n",
       "0            162.0       684.0          6462         19537.0         51.0                   13  246240.0                   0\n",
       "1            259.0       699.0          5678         19999.0         65.0                   14  251640.0                   1"
      ]
     },
     "execution_count": 8,
     "metadata": {},
     "output_type": "execute_result"
    }
   ],
   "source": [
    "df_job_compensation = df_abc [[\"employee_number\",\"daily_rate\", \"monthly_rate\", \"monthly_income\", \"hourly_rate\",\"percent_salary_hike\", \"salary\",\"stock_option_level\"]]\n",
    "\n",
    "df_job_compensation.head(2)"
   ]
  },
  {
   "cell_type": "code",
   "execution_count": 11,
   "metadata": {},
   "outputs": [],
   "source": [
    "# convertimos en csv\n",
    "\n",
    "df_job_compensation.to_csv('Dataset_job_compensation_HR.csv', index= False)"
   ]
  },
  {
   "cell_type": "markdown",
   "metadata": {},
   "source": [
    "- Data frame job satisfaction "
   ]
  },
  {
   "cell_type": "code",
   "execution_count": 10,
   "metadata": {},
   "outputs": [
    {
     "data": {
      "text/html": [
       "<div>\n",
       "<style scoped>\n",
       "    .dataframe tbody tr th:only-of-type {\n",
       "        vertical-align: middle;\n",
       "    }\n",
       "\n",
       "    .dataframe tbody tr th {\n",
       "        vertical-align: top;\n",
       "    }\n",
       "\n",
       "    .dataframe thead th {\n",
       "        text-align: right;\n",
       "    }\n",
       "</style>\n",
       "<table border=\"1\" class=\"dataframe\">\n",
       "  <thead>\n",
       "    <tr style=\"text-align: right;\">\n",
       "      <th></th>\n",
       "      <th>employee_number</th>\n",
       "      <th>job_involvement</th>\n",
       "      <th>performance_rating</th>\n",
       "      <th>environment_satisfaction</th>\n",
       "      <th>relationship_satisfaction</th>\n",
       "      <th>work_life_balance</th>\n",
       "    </tr>\n",
       "  </thead>\n",
       "  <tbody>\n",
       "    <tr>\n",
       "      <th>0</th>\n",
       "      <td>162.0</td>\n",
       "      <td>3</td>\n",
       "      <td>3</td>\n",
       "      <td>1</td>\n",
       "      <td>3</td>\n",
       "      <td>3.0</td>\n",
       "    </tr>\n",
       "    <tr>\n",
       "      <th>1</th>\n",
       "      <td>259.0</td>\n",
       "      <td>2</td>\n",
       "      <td>3</td>\n",
       "      <td>3</td>\n",
       "      <td>1</td>\n",
       "      <td>3.0</td>\n",
       "    </tr>\n",
       "  </tbody>\n",
       "</table>\n",
       "</div>"
      ],
      "text/plain": [
       "   employee_number  job_involvement  performance_rating  environment_satisfaction  relationship_satisfaction  work_life_balance\n",
       "0            162.0                3                   3                         1                          3                3.0\n",
       "1            259.0                2                   3                         3                          1                3.0"
      ]
     },
     "execution_count": 10,
     "metadata": {},
     "output_type": "execute_result"
    }
   ],
   "source": [
    "df_job_satisfaction  = df_abc [[\"employee_number\", \"job_involvement\",\"performance_rating\",\"environment_satisfaction\" ,\"relationship_satisfaction\" ,\"work_life_balance\"]]\n",
    "\n",
    "df_job_satisfaction.head(2)"
   ]
  },
  {
   "cell_type": "code",
   "execution_count": 12,
   "metadata": {},
   "outputs": [],
   "source": [
    "# convertimos en csv\n",
    "\n",
    "df_job_satisfaction.to_csv('Dataset_job_satisfaction_HR.csv', index= False)"
   ]
  },
  {
   "cell_type": "markdown",
   "metadata": {},
   "source": [
    " **A. CONEXIÓN CON SQL**"
   ]
  },
  {
   "cell_type": "code",
   "execution_count": 13,
   "metadata": {},
   "outputs": [
    {
     "name": "stdout",
     "output_type": "stream",
     "text": [
      "MySQLCursor: CREATE DATABASE BBDD_ABC_Corporation\n"
     ]
    }
   ],
   "source": [
    "# Conectar a SQL\n",
    "cnx = mysql.connector.connect(user='root', password='AlumnaAdalab',\n",
    "                              host='127.0.0.1')\n",
    "# Crear cursor\n",
    "mycursor = cnx.cursor()\n",
    "\n",
    "# Crear base de datos\n",
    "try:\n",
    "    mycursor.execute(\"CREATE DATABASE BBDD_ABC_Corporation\")\n",
    "    print(mycursor)\n",
    "except mysql.connector.Error as err: # verificar si hay errores\n",
    "    print(err)\n",
    "    print(\"Error Code:\", err.errno)\n",
    "    print(\"SQLSTATE\", err.sqlstate)\n",
    "    print(\"Message\", err.msg)"
   ]
  },
  {
   "cell_type": "markdown",
   "metadata": {},
   "source": [
    "**B. UBICACIÓN BBDD \"BBDD_ABC_Corporation\" Y CREACIÓN DE TABLAS CON SUS COLUMNAS**"
   ]
  },
  {
   "cell_type": "markdown",
   "metadata": {},
   "source": [
    "- **B.1.** TABLA 1: employees"
   ]
  },
  {
   "cell_type": "code",
   "execution_count": 14,
   "metadata": {},
   "outputs": [
    {
     "name": "stdout",
     "output_type": "stream",
     "text": [
      "Base de datos seleccionada correctamente.\n"
     ]
    },
    {
     "name": "stdout",
     "output_type": "stream",
     "text": [
      "Tabla 'employees' creada exitosamente.\n"
     ]
    }
   ],
   "source": [
    "# Seleccionar la base de datos\n",
    "\n",
    "try:\n",
    "    mycursor.execute(\"USE BBDD_ABC_Corporation\")\n",
    "    print(\"Base de datos seleccionada correctamente.\")\n",
    "except mysql.connector.Error as err:\n",
    "    print(\"Error al seleccionar la base de datos.\")\n",
    "    print(\"Código de Error:\", err.errno)\n",
    "    print(\"SQLSTATE:\", err.sqlstate)\n",
    "    print(\"Mensaje:\", err.msg)\n",
    "    \n",
    "# Crear tabla 1: \"employees\"\n",
    "\n",
    "try:\n",
    "    mycursor.execute(\"\"\"\n",
    "  CREATE TABLE employees (\n",
    "    employee_number INT NOT NULL AUTO_INCREMENT PRIMARY KEY,\n",
    "    age INT,\n",
    "    gender VARCHAR(10),\n",
    "    year_birth YEAR,\n",
    "    marital_status VARCHAR(20),\n",
    "    education INT,\n",
    "    education_field VARCHAR(50),\n",
    "    distance_from_home INT,\n",
    "    total_working_years INT,                 \n",
    "    num_companies_worked INT\n",
    ")  \n",
    "\"\"\")\n",
    "\n",
    "    # Verficar la creación de tabla 1: \"employees\"\n",
    "    \n",
    "    print(\"Tabla 'employees' creada exitosamente.\")\n",
    "except mysql.connector.Error as err:\n",
    "    print(\"Se produjo un error al crear la tabla 'employees'.\")\n",
    "    print(\"Código de Error:\", err.errno)\n",
    "    print(\"SQLSTATE:\", err.sqlstate)\n",
    "    print(\"Mensaje:\", err.msg)"
   ]
  },
  {
   "cell_type": "markdown",
   "metadata": {},
   "source": [
    "- **B.2.** TABLA 2: job_information"
   ]
  },
  {
   "cell_type": "code",
   "execution_count": 19,
   "metadata": {},
   "outputs": [
    {
     "name": "stdout",
     "output_type": "stream",
     "text": [
      "Base de datos seleccionada correctamente.\n",
      "Tabla 'job_information' creada exitosamente.\n"
     ]
    }
   ],
   "source": [
    "\n",
    "# Seleccionar la base de datos\n",
    "\n",
    "try:\n",
    "    mycursor.execute(\"USE BBDD_ABC_Corporation\")\n",
    "    print(\"Base de datos seleccionada correctamente.\")\n",
    "except mysql.connector.Error as err:\n",
    "    print(\"Error al seleccionar la base de datos.\")\n",
    "    print(\"Código de Error:\", err.errno)\n",
    "    print(\"SQLSTATE:\", err.sqlstate)\n",
    "    print(\"Mensaje:\", err.msg)\n",
    "    \n",
    "# Crear tabla 2: \"job_information\"\n",
    "\n",
    "try:\n",
    "    mycursor.execute(\"\"\"\n",
    "    CREATE TABLE job_information (\n",
    "    employee_number INT PRIMARY KEY,\n",
    "    employee_count INT,\n",
    "    job_role VARCHAR(50),\n",
    "    department VARCHAR(50),\n",
    "    job_level INT,\n",
    "    training_times_last_year INT,\n",
    "    remote_work VARCHAR(10),\n",
    "    standard_hours INT,\n",
    "    over_time VARCHAR(10),\n",
    "    years_at_company INT,\n",
    "    years_since_last_promotion INT,\n",
    "    years_with_curr_manager INT,\n",
    "    attrition VARCHAR(10),\n",
    "    FOREIGN KEY (employee_number) REFERENCES employees(employee_number) ON DELETE CASCADE ON UPDATE CASCADE\n",
    ") \n",
    "\"\"\")\n",
    "    \n",
    "    # Verficar la creación de tabla 2: \"job_information\"\n",
    "    \n",
    "    print(\"Tabla 'job_information' creada exitosamente.\")\n",
    "except mysql.connector.Error as err:\n",
    "    print(\"Se produjo un error al crear la tabla 'job_information'.\")\n",
    "    print(\"Código de Error:\", err.errno)\n",
    "    print(\"SQLSTATE:\", err.sqlstate)\n",
    "    print(\"Mensaje:\", err.msg)"
   ]
  },
  {
   "cell_type": "markdown",
   "metadata": {},
   "source": [
    "- **B.3.** TABLA 3: job_compensation"
   ]
  },
  {
   "cell_type": "code",
   "execution_count": 5,
   "metadata": {},
   "outputs": [
    {
     "name": "stdout",
     "output_type": "stream",
     "text": [
      "Base de datos seleccionada correctamente.\n",
      "Se produjo un error al crear la tabla 'job_compensation'.\n",
      "Código de Error: 1050\n",
      "SQLSTATE: 42S01\n",
      "Mensaje: Table 'job_compensation' already exists\n"
     ]
    }
   ],
   "source": [
    "\n",
    "# Seleccionar la base de datos\n",
    "\n",
    "try:\n",
    "    mycursor.execute(\"USE BBDD_ABC_Corporation\")\n",
    "    print(\"Base de datos seleccionada correctamente.\")\n",
    "except mysql.connector.Error as err:\n",
    "    print(\"Error al seleccionar la base de datos.\")\n",
    "    print(\"Código de Error:\", err.errno)\n",
    "    print(\"SQLSTATE:\", err.sqlstate)\n",
    "    print(\"Mensaje:\", err.msg)\n",
    "    \n",
    "# Crear tabla 3: \"job_compensation\"\n",
    "\n",
    "try:\n",
    "    mycursor.execute(\"\"\"\n",
    "    CREATE TABLE job_compensation (\n",
    "    employee_number INT PRIMARY KEY,\n",
    "    daily_rate FLOAT,\n",
    "    monthly_rate FLOAT,\n",
    "    monthly_income FLOAT,\n",
    "    hourly_rate FLOAT,\n",
    "    percent_salary_hike INT,\n",
    "    salary FLOAT,\n",
    "    stock_option_level INT,                         \n",
    "    FOREIGN KEY (employee_number) REFERENCES employees(employee_number) ON DELETE CASCADE ON UPDATE CASCADE\n",
    ")\n",
    "\"\"\")\n",
    "    \n",
    "    # Verficar la creación de tabla 3: \"job_compensation\"\n",
    "    \n",
    "    print(\"Tabla 'job_compensation' creada exitosamente.\")\n",
    "except mysql.connector.Error as err:\n",
    "    print(\"Se produjo un error al crear la tabla 'job_compensation'.\")\n",
    "    print(\"Código de Error:\", err.errno)\n",
    "    print(\"SQLSTATE:\", err.sqlstate)\n",
    "    print(\"Mensaje:\", err.msg)"
   ]
  },
  {
   "cell_type": "markdown",
   "metadata": {},
   "source": [
    "- **B.4.** TABLA 4: job_satisfaction"
   ]
  },
  {
   "cell_type": "code",
   "execution_count": 6,
   "metadata": {},
   "outputs": [
    {
     "name": "stdout",
     "output_type": "stream",
     "text": [
      "Base de datos seleccionada correctamente.\n",
      "Se produjo un error al crear la tabla 'job_satisfaction'.\n",
      "Código de Error: 1050\n",
      "SQLSTATE: 42S01\n",
      "Mensaje: Table 'job_satisfaction' already exists\n"
     ]
    }
   ],
   "source": [
    "\n",
    "# Seleccionar la base de datos\n",
    "\n",
    "try:\n",
    "    mycursor.execute(\"USE BBDD_ABC_Corporation\")\n",
    "    print(\"Base de datos seleccionada correctamente.\")\n",
    "except mysql.connector.Error as err:\n",
    "    print(\"Error al seleccionar la base de datos.\")\n",
    "    print(\"Código de Error:\", err.errno)\n",
    "    print(\"SQLSTATE:\", err.sqlstate)\n",
    "    print(\"Mensaje:\", err.msg)\n",
    "    \n",
    "# Crear tabla 4: \"job_satisfaction\"\n",
    "\n",
    "try:\n",
    "    mycursor.execute(\"\"\"\n",
    "    CREATE TABLE job_satisfaction (\n",
    "    employee_number INT PRIMARY KEY, \n",
    "    job_involvement INT,\n",
    "    performance_rating INT,        \n",
    "    environment_satisfaction INT,\n",
    "    relationship_satisfaction INT,\n",
    "    work_life_balance INT,            \n",
    "    FOREIGN KEY (employee_number) REFERENCES employees(employee_number)ON DELETE CASCADE ON UPDATE CASCADE\n",
    ")\n",
    "\"\"\")\n",
    "    \n",
    "    # Verficar la creación de tabla 4: \"job_satisfaction\"\n",
    "    \n",
    "    print(\"Tabla 'job_satisfaction' creada exitosamente.\")\n",
    "except mysql.connector.Error as err:\n",
    "    print(\"Se produjo un error al crear la tabla 'job_satisfaction'.\")\n",
    "    print(\"Código de Error:\", err.errno)\n",
    "    print(\"SQLSTATE:\", err.sqlstate)\n",
    "    print(\"Mensaje:\", err.msg)"
   ]
  },
  {
   "cell_type": "markdown",
   "metadata": {},
   "source": [
    "**C. INSERCIÓN DE DATOS EN LAS TABLAS**"
   ]
  },
  {
   "cell_type": "markdown",
   "metadata": {},
   "source": [
    "- **C.1.** TABLA 1: employees"
   ]
  },
  {
   "cell_type": "code",
   "execution_count": 16,
   "metadata": {},
   "outputs": [
    {
     "name": "stdout",
     "output_type": "stream",
     "text": [
      "1080 registros insertados.\n"
     ]
    }
   ],
   "source": [
    "# Insertar registros dentro de la tabla 1: \"employees\"\n",
    "\n",
    "sql = \"INSERT INTO employees (employee_number, age, gender, year_birth, marital_status, education, education_field, distance_from_home, total_working_years, num_companies_worked) VALUES (%s,%s,%s,%s,%s,%s,%s,%s,%s,%s)\"\n",
    "\n",
    "val = df_employees[['employee_number', 'age', 'gender', 'year_birth', 'marital_status', 'education', 'education_field', 'distance_from_home', 'total_working_years', 'num_companies_worked']].values.tolist()\n",
    "\n",
    "try: \n",
    "    mycursor.executemany(sql, val)\n",
    "    cnx.commit()\n",
    "    print(mycursor.rowcount, \"registros insertados.\")\n",
    "\n",
    "except mysql.connector.Error as err:\n",
    "    print(err)\n",
    "    print(\"Error Code:\", err.errno)\n",
    "    print(\"SQLSTATE\", err.sqlstate)\n",
    "    print(\"Message\", err.msg)"
   ]
  },
  {
   "cell_type": "markdown",
   "metadata": {},
   "source": [
    "- **C.2.** TABLA 2: job_information"
   ]
  },
  {
   "cell_type": "code",
   "execution_count": 20,
   "metadata": {},
   "outputs": [
    {
     "name": "stdout",
     "output_type": "stream",
     "text": [
      "1080 registros insertados.\n"
     ]
    }
   ],
   "source": [
    "sql = \"INSERT INTO job_information (employee_number, employee_count, job_role, department, job_level, training_times_last_year, remote_work, standard_hours, over_time, years_at_company, years_since_last_promotion, years_with_curr_manager, attrition) VALUES (%s,%s,%s,%s,%s,%s,%s,%s,%s,%s,%s,%s,%s)\"\n",
    "\n",
    "val = df_job_information[[\"employee_number\",\"employee_count\",\"job_role\",\n",
    "    \"department\",\n",
    "    \"job_level\" ,\n",
    "    \"training_times_last_year\",\n",
    "    \"remote_work\",\n",
    "    \"standard_hours\",\n",
    "    \"over_time\",\n",
    "    \"years_at_company\",\n",
    "    \"years_since_last_promotion\",\n",
    "    \"years_with_curr_manager\",\n",
    "    \"attrition\"]].values.tolist()\n",
    "\n",
    "\n",
    "try: \n",
    "    mycursor.executemany(sql, val)\n",
    "    cnx.commit()\n",
    "    print(mycursor.rowcount, \"registros insertados.\")\n",
    "\n",
    "except mysql.connector.Error as err:\n",
    "    print(err)\n",
    "    print(\"Error Code:\", err.errno)\n",
    "    print(\"SQLSTATE\", err.sqlstate)\n",
    "    print(\"Message\", err.msg)"
   ]
  },
  {
   "cell_type": "markdown",
   "metadata": {},
   "source": [
    "- **C.3.** TABLA 3: job_compensation"
   ]
  },
  {
   "cell_type": "code",
   "execution_count": null,
   "metadata": {},
   "outputs": [
    {
     "name": "stdout",
     "output_type": "stream",
     "text": [
      "1080 registros insertados.\n"
     ]
    }
   ],
   "source": [
    "sql = \"INSERT INTO job_compensation(employee_number,daily_rate, monthly_rate, monthly_income, hourly_rate, percent_salary_hike, salary,stock_option_level) VALUES (%s,%s,%s,%s,%s,%s,%s,%s)\"\n",
    "\n",
    "val = df_job_compensation[[\"employee_number\",\"daily_rate\", \"monthly_rate\", \"monthly_income\", \"hourly_rate\",\"percent_salary_hike\", \"salary\",\"stock_option_level\"]].values.tolist()\n",
    "\n",
    "\n",
    "try: \n",
    "    mycursor.executemany(sql, val)\n",
    "    cnx.commit()\n",
    "    print(mycursor.rowcount, \"registros insertados.\")\n",
    "\n",
    "except mysql.connector.Error as err:\n",
    "    print(err)\n",
    "    print(\"Error Code:\", err.errno)\n",
    "    print(\"SQLSTATE\", err.sqlstate)\n",
    "    print(\"Message\", err.msg)"
   ]
  },
  {
   "cell_type": "markdown",
   "metadata": {},
   "source": [
    "- **C.4.** TABLA 4: job_satisfaction"
   ]
  },
  {
   "cell_type": "code",
   "execution_count": null,
   "metadata": {},
   "outputs": [
    {
     "name": "stdout",
     "output_type": "stream",
     "text": [
      "1080 registros insertados.\n"
     ]
    }
   ],
   "source": [
    "sql = \"INSERT INTO job_satisfaction(employee_number, job_involvement,performance_rating,environment_satisfaction ,relationship_satisfaction ,work_life_balance) VALUES (%s,%s,%s,%s,%s,%s)\"\n",
    "\n",
    "val = df_job_satisfaction [[\"employee_number\", \"job_involvement\",\"performance_rating\",\"environment_satisfaction\" ,\"relationship_satisfaction\" ,\"work_life_balance\"]].values.tolist()\n",
    "\n",
    "\n",
    "try: \n",
    "    mycursor.executemany(sql, val)\n",
    "    cnx.commit()\n",
    "    print(mycursor.rowcount, \"registros insertados.\")\n",
    "\n",
    "except mysql.connector.Error as err:\n",
    "    print(err)\n",
    "    print(\"Error Code:\", err.errno)\n",
    "    print(\"SQLSTATE\", err.sqlstate)\n",
    "    print(\"Message\", err.msg)"
   ]
  },
  {
   "cell_type": "markdown",
   "metadata": {},
   "source": [
    "- **D. CERRAR CONEXIÓN CON SQL**"
   ]
  },
  {
   "cell_type": "code",
   "execution_count": null,
   "metadata": {},
   "outputs": [],
   "source": [
    "# Cerrar el cursor y la conexión a la base de datos\n",
    "try:\n",
    "    # Si el cursor está abierto, cerrarlo\n",
    "    if mycursor:\n",
    "        mycursor.close()\n",
    "    \n",
    "    # Si la conexión está abierta, cerrarla\n",
    "    if cnx:\n",
    "        cnx.close()\n",
    "    \n",
    "    print(\"Conexión cerrada correctamente.\")\n",
    "except mysql.connector.Error as err:\n",
    "    print(\"Error al cerrar la conexión:\", err)"
   ]
  }
 ],
 "metadata": {
  "kernelspec": {
   "display_name": "base",
   "language": "python",
   "name": "python3"
  },
  "language_info": {
   "codemirror_mode": {
    "name": "ipython",
    "version": 3
   },
   "file_extension": ".py",
   "mimetype": "text/x-python",
   "name": "python",
   "nbconvert_exporter": "python",
   "pygments_lexer": "ipython3",
   "version": "3.12.4"
  }
 },
 "nbformat": 4,
 "nbformat_minor": 2
}
