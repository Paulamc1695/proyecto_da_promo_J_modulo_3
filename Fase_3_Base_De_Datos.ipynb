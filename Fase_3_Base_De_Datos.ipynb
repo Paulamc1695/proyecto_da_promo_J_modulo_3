{
 "cells": [
  {
   "cell_type": "markdown",
   "metadata": {},
   "source": [
    "## **FASE 3: DISEÑO, CREACIÓN DE BBDD INSERCIÓN DE DATOS**"
   ]
  },
  {
   "cell_type": "markdown",
   "metadata": {},
   "source": [
    "- **Librerías**"
   ]
  },
  {
   "cell_type": "code",
   "execution_count": 9,
   "metadata": {},
   "outputs": [],
   "source": [
    "# importar librerías\n",
    "\n",
    "# Tratamiento de datos\n",
    "# -----------------------------------------------------------------------\n",
    "import pandas as pd\n",
    "import numpy as np\n",
    "\n",
    "# Libreria Regex para buscar patrones\n",
    "# -----------------------------------------------------------------------\n",
    "import re\n",
    "\n",
    "# Imputación de nulos usando métodos avanzados estadísticos\n",
    "# -----------------------------------------------------------------------\n",
    "from sklearn.impute import SimpleImputer\n",
    "from sklearn.experimental import enable_iterative_imputer\n",
    "from sklearn.impute import IterativeImputer\n",
    "from sklearn.impute import KNNImputer\n",
    "\n",
    "# Librerías de visualización\n",
    "# -----------------------------------------------------------------------\n",
    "import seaborn as sns\n",
    "import matplotlib.pyplot as plt\n",
    "\n",
    "# Configuración\n",
    "# -----------------------------------------------------------------------\n",
    "pd.set_option('display.max_columns', None) # para poder visualizar todas las columnas de los DataFrames\n",
    "pd.set_option('display.max_rows', None)\n",
    "pd.set_option('display.max_colwidth', None)\n",
    "\n",
    "# Ajusta el ancho de la consola para evitar truncamientos\n",
    "# -----------------------------------------------------------------------\n",
    "pd.set_option(\"display.width\", 1000) \n",
    "\n",
    "# Importar librería para la conexión con MySQL\n",
    "# --------------------------------------------\n",
    "import mysql.connector\n",
    "from mysql.connector import errorcode\n",
    "\n",
    "# Importar otras librerías para manipulación y análisis de datos\n",
    "# -----------------------------------------------------------------------\n",
    "import csv"
   ]
  },
  {
   "cell_type": "markdown",
   "metadata": {},
   "source": [
    "- **Lectura csv**"
   ]
  },
  {
   "cell_type": "code",
   "execution_count": null,
   "metadata": {},
   "outputs": [],
   "source": [
    "# Lectura del csv:\n",
    "\n",
    "df_abc = pd.read_csv(\"nombre.csv\", index_col = None)\n",
    "df_abc.head()"
   ]
  },
  {
   "cell_type": "markdown",
   "metadata": {},
   "source": [
    " **A. CONEXIÓN CON SQL**"
   ]
  },
  {
   "cell_type": "code",
   "execution_count": 11,
   "metadata": {},
   "outputs": [
    {
     "name": "stdout",
     "output_type": "stream",
     "text": [
      "CMySQLCursor: CREATE DATABASE BBDD_ABC_Corporation\n"
     ]
    }
   ],
   "source": [
    "# Conectar a SQL\n",
    "cnx = mysql.connector.connect(user='root', password='AlumnaAdalab',\n",
    "                              host='127.0.0.1')\n",
    "# Crear cursor\n",
    "mycursor = cnx.cursor()\n",
    "\n",
    "# Crear base de datos\n",
    "try:\n",
    "    mycursor.execute(\"CREATE DATABASE BBDD_ABC_Corporation\")\n",
    "    print(mycursor)\n",
    "except mysql.connector.Error as err: # verificar si hay errores\n",
    "    print(err)\n",
    "    print(\"Error Code:\", err.errno)\n",
    "    print(\"SQLSTATE\", err.sqlstate)\n",
    "    print(\"Message\", err.msg)"
   ]
  },
  {
   "cell_type": "markdown",
   "metadata": {},
   "source": [
    "**B. UBICACIÓN BBDD \"BBDD_ABC_Corporation\" Y CREACIÓN DE TABLAS CON SUS COLUMNAS**"
   ]
  },
  {
   "cell_type": "markdown",
   "metadata": {},
   "source": [
    "- **B.1.** TABLA 1: employees"
   ]
  },
  {
   "cell_type": "code",
   "execution_count": null,
   "metadata": {},
   "outputs": [],
   "source": [
    "# Seleccionar la base de datos\n",
    "\n",
    "try:\n",
    "    mycursor.execute(\"USE BBDD_ABC_Corporation\")\n",
    "    print(\"Base de datos seleccionada correctamente.\")\n",
    "except mysql.connector.Error as err:\n",
    "    print(\"Error al seleccionar la base de datos.\")\n",
    "    print(\"Código de Error:\", err.errno)\n",
    "    print(\"SQLSTATE:\", err.sqlstate)\n",
    "    print(\"Mensaje:\", err.msg)\n",
    "    \n",
    "# Crear tabla 1: \"employees\"\n",
    "\n",
    "try:\n",
    "    mycursor.execute(\"\"\"\n",
    "  CREATE TABLE employees (\n",
    "    employee_number INT PRIMARY KEY,\n",
    "    age INT,\n",
    "    gender VARCHAR(10),\n",
    "    year_birth YEAR,\n",
    "    marital_status VARCHAR(20),\n",
    "    education INT,\n",
    "    education_field VARCHAR(50),\n",
    "    distance_from_home INT,\n",
    "    total_working_years INT,                 \n",
    "    num_companies_worked INT,\n",
    "    attrition VARCHAR(10)\n",
    ")  \n",
    "\"\"\")\n",
    "    \n",
    "    # Verficar la creación de tabla 1: \"employees\"\n",
    "    \n",
    "    print(\"Tabla 'employees' creada exitosamente.\")\n",
    "except mysql.connector.Error as err:\n",
    "    print(\"Se produjo un error al crear la tabla 'employees'.\")\n",
    "    print(\"Código de Error:\", err.errno)\n",
    "    print(\"SQLSTATE:\", err.sqlstate)\n",
    "    print(\"Mensaje:\", err.msg)"
   ]
  },
  {
   "cell_type": "markdown",
   "metadata": {},
   "source": [
    "- **B.2.** TABLA 2: job_information"
   ]
  },
  {
   "cell_type": "code",
   "execution_count": null,
   "metadata": {},
   "outputs": [],
   "source": [
    "\n",
    "# Seleccionar la base de datos\n",
    "\n",
    "try:\n",
    "    mycursor.execute(\"USE BBDD_ABC_Corporation\")\n",
    "    print(\"Base de datos seleccionada correctamente.\")\n",
    "except mysql.connector.Error as err:\n",
    "    print(\"Error al seleccionar la base de datos.\")\n",
    "    print(\"Código de Error:\", err.errno)\n",
    "    print(\"SQLSTATE:\", err.sqlstate)\n",
    "    print(\"Mensaje:\", err.msg)\n",
    "    \n",
    "# Crear tabla 2: \"job_information\"\n",
    "\n",
    "try:\n",
    "    mycursor.execute(\"\"\"\n",
    "    CREATE TABLE job_information (\n",
    "    employee_number INT PRIMARY KEY,\n",
    "    employee_count INT,\n",
    "    job_role VARCHAR(50),\n",
    "    department VARCHAR(50),\n",
    "    job_level INT,\n",
    "    training_times_last_year INT,\n",
    "    remote_work VARCHAR(10),\n",
    "    standard_hours INT,\n",
    "    over_time VARCHAR(10),\n",
    "    years_at_company INT,\n",
    "    years_since_last_promotion INT,\n",
    "    years_with_curr_manager INT,\n",
    "    FOREIGN KEY (employee_number) REFERENCES employees(employee_number)\n",
    ") \n",
    "\"\"\")\n",
    "    \n",
    "    # Verficar la creación de tabla 2: \"job_information\"\n",
    "    \n",
    "    print(\"Tabla 'job_information' creada exitosamente.\")\n",
    "except mysql.connector.Error as err:\n",
    "    print(\"Se produjo un error al crear la tabla 'job_information'.\")\n",
    "    print(\"Código de Error:\", err.errno)\n",
    "    print(\"SQLSTATE:\", err.sqlstate)\n",
    "    print(\"Mensaje:\", err.msg)"
   ]
  },
  {
   "cell_type": "markdown",
   "metadata": {},
   "source": [
    "- **B.3.** TABLA 3: job_compensation"
   ]
  },
  {
   "cell_type": "code",
   "execution_count": null,
   "metadata": {},
   "outputs": [],
   "source": [
    "\n",
    "# Seleccionar la base de datos\n",
    "\n",
    "try:\n",
    "    mycursor.execute(\"USE BBDD_ABC_Corporation\")\n",
    "    print(\"Base de datos seleccionada correctamente.\")\n",
    "except mysql.connector.Error as err:\n",
    "    print(\"Error al seleccionar la base de datos.\")\n",
    "    print(\"Código de Error:\", err.errno)\n",
    "    print(\"SQLSTATE:\", err.sqlstate)\n",
    "    print(\"Mensaje:\", err.msg)\n",
    "    \n",
    "# Crear tabla 3: \"job_compensation\"\n",
    "\n",
    "try:\n",
    "    mycursor.execute(\"\"\"\n",
    "    CREATE TABLE job_compensation (\n",
    "    employee_number INT PRIMARY KEY,\n",
    "    daily_rate FLOAT,\n",
    "    monthly_rate FLOAT,\n",
    "    monthly_income FLOAT,\n",
    "    hourly_rate FLOAT,\n",
    "    percent_salary_hike INT,\n",
    "    salary FLOAT,\n",
    "    stock_option_level INT,                         \n",
    "    FOREIGN KEY (employee_number) REFERENCES employees(employee_number)\n",
    ")\n",
    "\"\"\")\n",
    "    \n",
    "    # Verficar la creación de tabla 3: \"job_compensation\"\n",
    "    \n",
    "    print(\"Tabla 'job_compensation' creada exitosamente.\")\n",
    "except mysql.connector.Error as err:\n",
    "    print(\"Se produjo un error al crear la tabla 'job_compensation'.\")\n",
    "    print(\"Código de Error:\", err.errno)\n",
    "    print(\"SQLSTATE:\", err.sqlstate)\n",
    "    print(\"Mensaje:\", err.msg)"
   ]
  },
  {
   "cell_type": "markdown",
   "metadata": {},
   "source": [
    "- **B.4.** TABLA 4: job_satisfaction"
   ]
  },
  {
   "cell_type": "code",
   "execution_count": null,
   "metadata": {},
   "outputs": [],
   "source": [
    "\n",
    "# Seleccionar la base de datos\n",
    "\n",
    "try:\n",
    "    mycursor.execute(\"USE BBDD_ABC_Corporation\")\n",
    "    print(\"Base de datos seleccionada correctamente.\")\n",
    "except mysql.connector.Error as err:\n",
    "    print(\"Error al seleccionar la base de datos.\")\n",
    "    print(\"Código de Error:\", err.errno)\n",
    "    print(\"SQLSTATE:\", err.sqlstate)\n",
    "    print(\"Mensaje:\", err.msg)\n",
    "    \n",
    "# Crear tabla 4: \"job_satisfaction\"\n",
    "\n",
    "try:\n",
    "    mycursor.execute(\"\"\"\n",
    "    CREATE TABLE job_satisfaction (\n",
    "    employee_number INT PRIMARY KEY, \n",
    "    job_involvement INT,\n",
    "    performance_rating INT,        \n",
    "    environment_satisfaction INT,\n",
    "    relationship_satisfaction INT,\n",
    "    work_life_balance INT,            \n",
    "    FOREIGN KEY (employee_number) REFERENCES employees(employee_number)\n",
    ")\n",
    "\"\"\")\n",
    "    \n",
    "    # Verficar la creación de tabla 4: \"job_satisfaction\"\n",
    "    \n",
    "    print(\"Tabla 'job_satisfaction' creada exitosamente.\")\n",
    "except mysql.connector.Error as err:\n",
    "    print(\"Se produjo un error al crear la tabla 'job_satisfaction'.\")\n",
    "    print(\"Código de Error:\", err.errno)\n",
    "    print(\"SQLSTATE:\", err.sqlstate)\n",
    "    print(\"Mensaje:\", err.msg)"
   ]
  },
  {
   "cell_type": "markdown",
   "metadata": {},
   "source": [
    "**C. INSERCIÓN DE DATOS EN LAS TABLAS**"
   ]
  },
  {
   "cell_type": "markdown",
   "metadata": {},
   "source": [
    "- **C.1.** TABLA 1: employees"
   ]
  },
  {
   "cell_type": "code",
   "execution_count": null,
   "metadata": {},
   "outputs": [],
   "source": [
    "# Insertar registros dentro de la tabla 1: \"employees\"\n",
    "\n",
    "sql = \"INSERT INTO employees (employee_number, age, gender, year_birth, marital_status, education, education_field, distance_from_home, total_working_years, num_companies_worked, attrition) VALUES (%s,%s,%s,%s,%s,%s,%s,%s,%s,%s,%s) \"\n",
    "val = df_abc\n",
    "\n",
    "try: \n",
    "    mycursor.executemany(sql, val)\n",
    "    cnx.commit()\n",
    "    print(mycursor.rowcount, \"registros insertados.\")\n",
    "\n",
    "except mysql.connector.Error as err:\n",
    "    print(err)\n",
    "    print(\"Error Code:\", err.errno)\n",
    "    print(\"SQLSTATE\", err.sqlstate)\n",
    "    print(\"Message\", err.msg)"
   ]
  },
  {
   "cell_type": "markdown",
   "metadata": {},
   "source": [
    "- **C.2.** TABLA 2: job_information"
   ]
  },
  {
   "cell_type": "markdown",
   "metadata": {},
   "source": [
    "- **C.3.** TABLA 3: job_compensation"
   ]
  },
  {
   "cell_type": "markdown",
   "metadata": {},
   "source": [
    "- **C.4.** TABLA 4: job_satisfaction"
   ]
  },
  {
   "cell_type": "markdown",
   "metadata": {},
   "source": [
    "- **D. CERRAR CONEXIÓN CON SQL**"
   ]
  },
  {
   "cell_type": "code",
   "execution_count": null,
   "metadata": {},
   "outputs": [],
   "source": [
    "# Cerrar el cursor y la conexión a la base de datos\n",
    "try:\n",
    "    # Si el cursor está abierto, cerrarlo\n",
    "    if mycursor:\n",
    "        mycursor.close()\n",
    "    \n",
    "    # Si la conexión está abierta, cerrarla\n",
    "    if cnx:\n",
    "        cnx.close()\n",
    "    \n",
    "    print(\"Conexión cerrada correctamente.\")\n",
    "except mysql.connector.Error as err:\n",
    "    print(\"Error al cerrar la conexión:\", err)"
   ]
  }
 ],
 "metadata": {
  "kernelspec": {
   "display_name": "base",
   "language": "python",
   "name": "python3"
  },
  "language_info": {
   "codemirror_mode": {
    "name": "ipython",
    "version": 3
   },
   "file_extension": ".py",
   "mimetype": "text/x-python",
   "name": "python",
   "nbconvert_exporter": "python",
   "pygments_lexer": "ipython3",
   "version": "3.9.12"
  }
 },
 "nbformat": 4,
 "nbformat_minor": 2
}
