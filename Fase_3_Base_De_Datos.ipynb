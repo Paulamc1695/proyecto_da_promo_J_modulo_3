{
 "cells": [
  {
   "cell_type": "markdown",
   "metadata": {},
   "source": [
    "## **FASE 3: DISEÑO, CREACIÓN DE BBDD INSERCIÓN DE DATOS**"
   ]
  },
  {
   "cell_type": "markdown",
   "metadata": {},
   "source": [
    "- **Librerías**"
   ]
  },
  {
   "cell_type": "code",
   "execution_count": 3,
   "metadata": {},
   "outputs": [],
   "source": [
    "# importar librerías\n",
    "\n",
    "# Tratamiento de datos\n",
    "# -----------------------------------------------------------------------\n",
    "import pandas as pd\n",
    "import numpy as np\n",
    "\n",
    "# Libreria Regex para buscar patrones\n",
    "# -----------------------------------------------------------------------\n",
    "import re\n",
    "\n",
    "# Imputación de nulos usando métodos avanzados estadísticos\n",
    "# -----------------------------------------------------------------------\n",
    "from sklearn.impute import SimpleImputer\n",
    "from sklearn.experimental import enable_iterative_imputer\n",
    "from sklearn.impute import IterativeImputer\n",
    "from sklearn.impute import KNNImputer\n",
    "\n",
    "# Librerías de visualización\n",
    "# -----------------------------------------------------------------------\n",
    "import seaborn as sns\n",
    "import matplotlib.pyplot as plt\n",
    "\n",
    "# Configuración\n",
    "# -----------------------------------------------------------------------\n",
    "pd.set_option('display.max_columns', None) # para poder visualizar todas las columnas de los DataFrames\n",
    "pd.set_option('display.max_rows', None)\n",
    "pd.set_option('display.max_colwidth', None)\n",
    "\n",
    "# Ajusta el ancho de la consola para evitar truncamientos\n",
    "# -----------------------------------------------------------------------\n",
    "pd.set_option(\"display.width\", 1000) \n",
    "\n",
    "# Importar librería para la conexión con MySQL\n",
    "# --------------------------------------------\n",
    "import mysql.connector\n",
    "from mysql.connector import errorcode\n",
    "\n",
    "# Importar otras librerías para manipulación y análisis de datos\n",
    "# -----------------------------------------------------------------------\n",
    "import csv"
   ]
  },
  {
   "cell_type": "markdown",
   "metadata": {},
   "source": [
    "- **Lectura csv**"
   ]
  },
  {
   "cell_type": "code",
   "execution_count": null,
   "metadata": {},
   "outputs": [],
   "source": [
    "# Lectura del csv:\n",
    "\n",
    "df_abc = pd.read_csv(\"nombre.csv\", index_col = None)\n",
    "df_abc.head()"
   ]
  },
  {
   "cell_type": "markdown",
   "metadata": {},
   "source": [
    " **A. CONEXIÓN CON SQL**"
   ]
  },
  {
   "cell_type": "code",
   "execution_count": 4,
   "metadata": {},
   "outputs": [
    {
     "ename": "DatabaseError",
     "evalue": "2003 (HY000): Can't connect to MySQL server on '127.0.0.1:3306' (111)",
     "output_type": "error",
     "traceback": [
      "\u001b[0;31m---------------------------------------------------------------------------\u001b[0m",
      "\u001b[0;31mMySQLInterfaceError\u001b[0m                       Traceback (most recent call last)",
      "File \u001b[0;32m~/anaconda3/lib/python3.9/site-packages/mysql/connector/connection_cext.py:334\u001b[0m, in \u001b[0;36mCMySQLConnection._open_connection\u001b[0;34m(self)\u001b[0m\n\u001b[1;32m    333\u001b[0m \u001b[38;5;28;01mtry\u001b[39;00m:\n\u001b[0;32m--> 334\u001b[0m     \u001b[38;5;28;43mself\u001b[39;49m\u001b[38;5;241;43m.\u001b[39;49m\u001b[43m_cmysql\u001b[49m\u001b[38;5;241;43m.\u001b[39;49m\u001b[43mconnect\u001b[49m\u001b[43m(\u001b[49m\u001b[38;5;241;43m*\u001b[39;49m\u001b[38;5;241;43m*\u001b[39;49m\u001b[43mcnx_kwargs\u001b[49m\u001b[43m)\u001b[49m\n\u001b[1;32m    335\u001b[0m     \u001b[38;5;28mself\u001b[39m\u001b[38;5;241m.\u001b[39m_cmysql\u001b[38;5;241m.\u001b[39mconverter_str_fallback \u001b[38;5;241m=\u001b[39m \u001b[38;5;28mself\u001b[39m\u001b[38;5;241m.\u001b[39m_converter_str_fallback\n",
      "\u001b[0;31mMySQLInterfaceError\u001b[0m: Can't connect to MySQL server on '127.0.0.1:3306' (111)",
      "\nThe above exception was the direct cause of the following exception:\n",
      "\u001b[0;31mDatabaseError\u001b[0m                             Traceback (most recent call last)",
      "Input \u001b[0;32mIn [4]\u001b[0m, in \u001b[0;36m<cell line: 2>\u001b[0;34m()\u001b[0m\n\u001b[1;32m      1\u001b[0m \u001b[38;5;66;03m# Conectar a SQL\u001b[39;00m\n\u001b[0;32m----> 2\u001b[0m cnx \u001b[38;5;241m=\u001b[39m \u001b[43mmysql\u001b[49m\u001b[38;5;241;43m.\u001b[39;49m\u001b[43mconnector\u001b[49m\u001b[38;5;241;43m.\u001b[39;49m\u001b[43mconnect\u001b[49m\u001b[43m(\u001b[49m\u001b[43muser\u001b[49m\u001b[38;5;241;43m=\u001b[39;49m\u001b[38;5;124;43m'\u001b[39;49m\u001b[38;5;124;43mroot\u001b[39;49m\u001b[38;5;124;43m'\u001b[39;49m\u001b[43m,\u001b[49m\u001b[43m \u001b[49m\u001b[43mpassword\u001b[49m\u001b[38;5;241;43m=\u001b[39;49m\u001b[38;5;124;43m'\u001b[39;49m\u001b[38;5;124;43mAlumnaAdalab\u001b[39;49m\u001b[38;5;124;43m'\u001b[39;49m\u001b[43m,\u001b[49m\n\u001b[1;32m      3\u001b[0m \u001b[43m                              \u001b[49m\u001b[43mhost\u001b[49m\u001b[38;5;241;43m=\u001b[39;49m\u001b[38;5;124;43m'\u001b[39;49m\u001b[38;5;124;43m127.0.0.1\u001b[39;49m\u001b[38;5;124;43m'\u001b[39;49m\u001b[43m)\u001b[49m\n\u001b[1;32m      4\u001b[0m \u001b[38;5;66;03m# Crear cursor\u001b[39;00m\n\u001b[1;32m      5\u001b[0m mycursor \u001b[38;5;241m=\u001b[39m cnx\u001b[38;5;241m.\u001b[39mcursor()\n",
      "File \u001b[0;32m~/anaconda3/lib/python3.9/site-packages/mysql/connector/pooling.py:322\u001b[0m, in \u001b[0;36mconnect\u001b[0;34m(*args, **kwargs)\u001b[0m\n\u001b[1;32m    319\u001b[0m         \u001b[38;5;28;01mraise\u001b[39;00m \u001b[38;5;167;01mImportError\u001b[39;00m(ERROR_NO_CEXT)\n\u001b[1;32m    321\u001b[0m \u001b[38;5;28;01mif\u001b[39;00m CMySQLConnection \u001b[38;5;129;01mand\u001b[39;00m \u001b[38;5;129;01mnot\u001b[39;00m use_pure:\n\u001b[0;32m--> 322\u001b[0m     \u001b[38;5;28;01mreturn\u001b[39;00m \u001b[43mCMySQLConnection\u001b[49m\u001b[43m(\u001b[49m\u001b[38;5;241;43m*\u001b[39;49m\u001b[43margs\u001b[49m\u001b[43m,\u001b[49m\u001b[43m \u001b[49m\u001b[38;5;241;43m*\u001b[39;49m\u001b[38;5;241;43m*\u001b[39;49m\u001b[43mkwargs\u001b[49m\u001b[43m)\u001b[49m\n\u001b[1;32m    323\u001b[0m \u001b[38;5;28;01mreturn\u001b[39;00m MySQLConnection(\u001b[38;5;241m*\u001b[39margs, \u001b[38;5;241m*\u001b[39m\u001b[38;5;241m*\u001b[39mkwargs)\n",
      "File \u001b[0;32m~/anaconda3/lib/python3.9/site-packages/mysql/connector/connection_cext.py:151\u001b[0m, in \u001b[0;36mCMySQLConnection.__init__\u001b[0;34m(self, **kwargs)\u001b[0m\n\u001b[1;32m    149\u001b[0m \u001b[38;5;28;01mif\u001b[39;00m kwargs:\n\u001b[1;32m    150\u001b[0m     \u001b[38;5;28;01mtry\u001b[39;00m:\n\u001b[0;32m--> 151\u001b[0m         \u001b[38;5;28;43mself\u001b[39;49m\u001b[38;5;241;43m.\u001b[39;49m\u001b[43mconnect\u001b[49m\u001b[43m(\u001b[49m\u001b[38;5;241;43m*\u001b[39;49m\u001b[38;5;241;43m*\u001b[39;49m\u001b[43mkwargs\u001b[49m\u001b[43m)\u001b[49m\n\u001b[1;32m    152\u001b[0m     \u001b[38;5;28;01mexcept\u001b[39;00m \u001b[38;5;167;01mException\u001b[39;00m:\n\u001b[1;32m    153\u001b[0m         \u001b[38;5;28mself\u001b[39m\u001b[38;5;241m.\u001b[39mclose()\n",
      "File \u001b[0;32m~/anaconda3/lib/python3.9/site-packages/mysql/connector/abstracts.py:1399\u001b[0m, in \u001b[0;36mMySQLConnectionAbstract.connect\u001b[0;34m(self, **kwargs)\u001b[0m\n\u001b[1;32m   1396\u001b[0m     \u001b[38;5;28mself\u001b[39m\u001b[38;5;241m.\u001b[39mconfig(\u001b[38;5;241m*\u001b[39m\u001b[38;5;241m*\u001b[39mkwargs)\n\u001b[1;32m   1398\u001b[0m \u001b[38;5;28mself\u001b[39m\u001b[38;5;241m.\u001b[39mdisconnect()\n\u001b[0;32m-> 1399\u001b[0m \u001b[38;5;28;43mself\u001b[39;49m\u001b[38;5;241;43m.\u001b[39;49m\u001b[43m_open_connection\u001b[49m\u001b[43m(\u001b[49m\u001b[43m)\u001b[49m\n\u001b[1;32m   1401\u001b[0m charset, collation \u001b[38;5;241m=\u001b[39m (\n\u001b[1;32m   1402\u001b[0m     kwargs\u001b[38;5;241m.\u001b[39mpop(\u001b[38;5;124m\"\u001b[39m\u001b[38;5;124mcharset\u001b[39m\u001b[38;5;124m\"\u001b[39m, \u001b[38;5;28;01mNone\u001b[39;00m),\n\u001b[1;32m   1403\u001b[0m     kwargs\u001b[38;5;241m.\u001b[39mpop(\u001b[38;5;124m\"\u001b[39m\u001b[38;5;124mcollation\u001b[39m\u001b[38;5;124m\"\u001b[39m, \u001b[38;5;28;01mNone\u001b[39;00m),\n\u001b[1;32m   1404\u001b[0m )\n\u001b[1;32m   1405\u001b[0m \u001b[38;5;28;01mif\u001b[39;00m charset \u001b[38;5;129;01mor\u001b[39;00m collation:\n",
      "File \u001b[0;32m~/anaconda3/lib/python3.9/site-packages/mysql/connector/connection_cext.py:339\u001b[0m, in \u001b[0;36mCMySQLConnection._open_connection\u001b[0;34m(self)\u001b[0m\n\u001b[1;32m    337\u001b[0m         \u001b[38;5;28mself\u001b[39m\u001b[38;5;241m.\u001b[39mconverter\u001b[38;5;241m.\u001b[39mstr_fallback \u001b[38;5;241m=\u001b[39m \u001b[38;5;28mself\u001b[39m\u001b[38;5;241m.\u001b[39m_converter_str_fallback\n\u001b[1;32m    338\u001b[0m \u001b[38;5;28;01mexcept\u001b[39;00m MySQLInterfaceError \u001b[38;5;28;01mas\u001b[39;00m err:\n\u001b[0;32m--> 339\u001b[0m     \u001b[38;5;28;01mraise\u001b[39;00m get_mysql_exception(\n\u001b[1;32m    340\u001b[0m         msg\u001b[38;5;241m=\u001b[39merr\u001b[38;5;241m.\u001b[39mmsg, errno\u001b[38;5;241m=\u001b[39merr\u001b[38;5;241m.\u001b[39merrno, sqlstate\u001b[38;5;241m=\u001b[39merr\u001b[38;5;241m.\u001b[39msqlstate\n\u001b[1;32m    341\u001b[0m     ) \u001b[38;5;28;01mfrom\u001b[39;00m \u001b[38;5;21;01merr\u001b[39;00m\n\u001b[1;32m    343\u001b[0m \u001b[38;5;28mself\u001b[39m\u001b[38;5;241m.\u001b[39m_do_handshake()\n\u001b[1;32m    345\u001b[0m \u001b[38;5;28;01mif\u001b[39;00m (\n\u001b[1;32m    346\u001b[0m     \u001b[38;5;129;01mnot\u001b[39;00m \u001b[38;5;28mself\u001b[39m\u001b[38;5;241m.\u001b[39m_ssl_disabled\n\u001b[1;32m    347\u001b[0m     \u001b[38;5;129;01mand\u001b[39;00m \u001b[38;5;28mhasattr\u001b[39m(\u001b[38;5;28mself\u001b[39m\u001b[38;5;241m.\u001b[39m_cmysql, \u001b[38;5;124m\"\u001b[39m\u001b[38;5;124mget_ssl_cipher\u001b[39m\u001b[38;5;124m\"\u001b[39m)\n\u001b[0;32m   (...)\u001b[0m\n\u001b[1;32m    352\u001b[0m \n\u001b[1;32m    353\u001b[0m     \u001b[38;5;66;03m# `get_ssl_cipher()` returns the name of the cipher being used.\u001b[39;00m\n",
      "\u001b[0;31mDatabaseError\u001b[0m: 2003 (HY000): Can't connect to MySQL server on '127.0.0.1:3306' (111)"
     ]
    }
   ],
   "source": [
    "# Conectar a SQL\n",
    "cnx = mysql.connector.connect(user='root', password='AlumnaAdalab',\n",
    "                              host='127.0.0.1')\n",
    "# Crear cursor\n",
    "mycursor = cnx.cursor()\n",
    "\n",
    "# Crear base de datos\n",
    "try:\n",
    "    mycursor.execute(\"CREATE DATABASE BBDD_ABC_Corporation\")\n",
    "    print(mycursor)\n",
    "except mysql.connector.Error as err: # verificar si hay errores\n",
    "    print(err)\n",
    "    print(\"Error Code:\", err.errno)\n",
    "    print(\"SQLSTATE\", err.sqlstate)\n",
    "    print(\"Message\", err.msg)"
   ]
  },
  {
   "cell_type": "markdown",
   "metadata": {},
   "source": [
    "**B. UBICACIÓN BBDD \"BBDD_ABC_Corporation\" Y CREACIÓN DE TABLAS CON SUS COLUMNAS**"
   ]
  },
  {
   "cell_type": "markdown",
   "metadata": {},
   "source": [
    "- **B.1.** TABLA 1: employees"
   ]
  },
  {
   "cell_type": "code",
   "execution_count": null,
   "metadata": {},
   "outputs": [],
   "source": [
    "# Seleccionar la base de datos\n",
    "\n",
    "try:\n",
    "    mycursor.execute(\"USE BBDD_ABC_Corporation\")\n",
    "    print(\"Base de datos seleccionada correctamente.\")\n",
    "except mysql.connector.Error as err:\n",
    "    print(\"Error al seleccionar la base de datos.\")\n",
    "    print(\"Código de Error:\", err.errno)\n",
    "    print(\"SQLSTATE:\", err.sqlstate)\n",
    "    print(\"Mensaje:\", err.msg)\n",
    "    \n",
    "# Crear tabla 1: \"employees\"\n",
    "\n",
    "try:\n",
    "    mycursor.execute(\"\"\"\n",
    "  CREATE TABLE employees (\n",
    "    employee_number INT PRIMARY KEY,\n",
    "    age INT,\n",
    "    gender VARCHAR(10),\n",
    "    year_birth YEAR,\n",
    "    marital_status VARCHAR(20),\n",
    "    education INT,\n",
    "    education_field VARCHAR(50),\n",
    "    distance_from_home INT,\n",
    "    total_working_years INT,                 \n",
    "    num_companies_worked INT,\n",
    "    attrition VARCHAR(10)\n",
    ")  \n",
    "\"\"\")\n",
    "    \n",
    "    # Verficar la creación de tabla 1: \"employees\"\n",
    "    \n",
    "    print(\"Tabla 'employees' creada exitosamente.\")\n",
    "except mysql.connector.Error as err:\n",
    "    print(\"Se produjo un error al crear la tabla 'employees'.\")\n",
    "    print(\"Código de Error:\", err.errno)\n",
    "    print(\"SQLSTATE:\", err.sqlstate)\n",
    "    print(\"Mensaje:\", err.msg)"
   ]
  },
  {
   "cell_type": "markdown",
   "metadata": {},
   "source": [
    "- **B.2.** TABLA 2: job_information"
   ]
  },
  {
   "cell_type": "code",
   "execution_count": null,
   "metadata": {},
   "outputs": [],
   "source": [
    "\n",
    "# Seleccionar la base de datos\n",
    "\n",
    "try:\n",
    "    mycursor.execute(\"USE BBDD_ABC_Corporation\")\n",
    "    print(\"Base de datos seleccionada correctamente.\")\n",
    "except mysql.connector.Error as err:\n",
    "    print(\"Error al seleccionar la base de datos.\")\n",
    "    print(\"Código de Error:\", err.errno)\n",
    "    print(\"SQLSTATE:\", err.sqlstate)\n",
    "    print(\"Mensaje:\", err.msg)\n",
    "    \n",
    "# Crear tabla 2: \"job_information\"\n",
    "\n",
    "try:\n",
    "    mycursor.execute(\"\"\"\n",
    "    CREATE TABLE job_information (\n",
    "    employee_number INT PRIMARY KEY,\n",
    "    employee_count INT,\n",
    "    job_role VARCHAR(50),\n",
    "    department VARCHAR(50),\n",
    "    job_level INT,\n",
    "    training_times_last_year INT,\n",
    "    remote_work VARCHAR(10),\n",
    "    standard_hours INT,\n",
    "    over_time VARCHAR(10),\n",
    "    years_at_company INT,\n",
    "    years_since_last_promotion INT,\n",
    "    years_with_curr_manager INT,\n",
    "    FOREIGN KEY (employee_number) REFERENCES employees(employee_number)\n",
    ") \n",
    "\"\"\")\n",
    "    \n",
    "    # Verficar la creación de tabla 2: \"job_information\"\n",
    "    \n",
    "    print(\"Tabla 'job_information' creada exitosamente.\")\n",
    "except mysql.connector.Error as err:\n",
    "    print(\"Se produjo un error al crear la tabla 'job_information'.\")\n",
    "    print(\"Código de Error:\", err.errno)\n",
    "    print(\"SQLSTATE:\", err.sqlstate)\n",
    "    print(\"Mensaje:\", err.msg)"
   ]
  },
  {
   "cell_type": "markdown",
   "metadata": {},
   "source": [
    "- **B.3.** TABLA 3: job_compensation"
   ]
  },
  {
   "cell_type": "code",
   "execution_count": null,
   "metadata": {},
   "outputs": [],
   "source": [
    "\n",
    "# Seleccionar la base de datos\n",
    "\n",
    "try:\n",
    "    mycursor.execute(\"USE BBDD_ABC_Corporation\")\n",
    "    print(\"Base de datos seleccionada correctamente.\")\n",
    "except mysql.connector.Error as err:\n",
    "    print(\"Error al seleccionar la base de datos.\")\n",
    "    print(\"Código de Error:\", err.errno)\n",
    "    print(\"SQLSTATE:\", err.sqlstate)\n",
    "    print(\"Mensaje:\", err.msg)\n",
    "    \n",
    "# Crear tabla 3: \"job_compensation\"\n",
    "\n",
    "try:\n",
    "    mycursor.execute(\"\"\"\n",
    "    CREATE TABLE job_compensation (\n",
    "    employee_number INT PRIMARY KEY,\n",
    "    daily_rate FLOAT,\n",
    "    monthly_rate FLOAT,\n",
    "    monthly_income FLOAT,\n",
    "    hourly_rate FLOAT,\n",
    "    percent_salary_hike INT,\n",
    "    salary FLOAT,\n",
    "    stock_option_level INT,                         \n",
    "    FOREIGN KEY (employee_number) REFERENCES employees(employee_number)\n",
    ")\n",
    "\"\"\")\n",
    "    \n",
    "    # Verficar la creación de tabla 3: \"job_compensation\"\n",
    "    \n",
    "    print(\"Tabla 'job_compensation' creada exitosamente.\")\n",
    "except mysql.connector.Error as err:\n",
    "    print(\"Se produjo un error al crear la tabla 'job_compensation'.\")\n",
    "    print(\"Código de Error:\", err.errno)\n",
    "    print(\"SQLSTATE:\", err.sqlstate)\n",
    "    print(\"Mensaje:\", err.msg)"
   ]
  },
  {
   "cell_type": "markdown",
   "metadata": {},
   "source": [
    "- **B.4.** TABLA 4: job_satisfaction"
   ]
  },
  {
   "cell_type": "code",
   "execution_count": null,
   "metadata": {},
   "outputs": [],
   "source": [
    "\n",
    "# Seleccionar la base de datos\n",
    "\n",
    "try:\n",
    "    mycursor.execute(\"USE BBDD_ABC_Corporation\")\n",
    "    print(\"Base de datos seleccionada correctamente.\")\n",
    "except mysql.connector.Error as err:\n",
    "    print(\"Error al seleccionar la base de datos.\")\n",
    "    print(\"Código de Error:\", err.errno)\n",
    "    print(\"SQLSTATE:\", err.sqlstate)\n",
    "    print(\"Mensaje:\", err.msg)\n",
    "    \n",
    "# Crear tabla 4: \"job_satisfaction\"\n",
    "\n",
    "try:\n",
    "    mycursor.execute(\"\"\"\n",
    "    CREATE TABLE job_satisfaction (\n",
    "    employee_number INT PRIMARY KEY, \n",
    "    job_involvement INT,\n",
    "    performance_rating INT,        \n",
    "    environment_satisfaction INT,\n",
    "    relationship_satisfaction INT,\n",
    "    work_life_balance INT,            \n",
    "    FOREIGN KEY (employee_number) REFERENCES employees(employee_number)\n",
    ")\n",
    "\"\"\")\n",
    "    \n",
    "    # Verficar la creación de tabla 4: \"job_satisfaction\"\n",
    "    \n",
    "    print(\"Tabla 'job_satisfaction' creada exitosamente.\")\n",
    "except mysql.connector.Error as err:\n",
    "    print(\"Se produjo un error al crear la tabla 'job_satisfaction'.\")\n",
    "    print(\"Código de Error:\", err.errno)\n",
    "    print(\"SQLSTATE:\", err.sqlstate)\n",
    "    print(\"Mensaje:\", err.msg)"
   ]
  },
  {
   "cell_type": "code",
   "execution_count": null,
   "metadata": {},
   "outputs": [],
   "source": [
    "# Cerrar el cursor y la conexión a la base de datos\n",
    "try:\n",
    "    # Si el cursor está abierto, ciérralo\n",
    "    if mycursor:\n",
    "        mycursor.close()\n",
    "    \n",
    "    # Si la conexión está abierta, ciérrala\n",
    "    if cnx:\n",
    "        cnx.close()\n",
    "    \n",
    "    print(\"Conexión cerrada correctamente.\")\n",
    "except mysql.connector.Error as err:\n",
    "    print(\"Error al cerrar la conexión:\", err)"
   ]
  },
  {
   "cell_type": "markdown",
   "metadata": {},
   "source": [
    "**C. INSERCIÓN DE DATOS EN LAS TABLAS**"
   ]
  },
  {
   "cell_type": "markdown",
   "metadata": {},
   "source": [
    "- **C.1.** TABLA 1: employees"
   ]
  },
  {
   "cell_type": "code",
   "execution_count": null,
   "metadata": {},
   "outputs": [],
   "source": [
    "# Insertar registros dentro de la tabla 1: \"employees\"\n",
    "\n",
    "sql = \"INSERT INTO employees (employee_number, age, gender, year_birth, marital_status, education, education_field, distance_from_home, total_working_years, num_companies_worked, attrition) VALUES (%s,%s,%s,%s,%s,%s,%s,%s,%s,%s,%s) \"\n",
    "val = df_abc\n",
    "\n",
    "try: \n",
    "    mycursor.executemany(sql, val)\n",
    "    cnx.commit()\n",
    "    print(mycursor.rowcount, \"registros insertados.\")\n",
    "\n",
    "except mysql.connector.Error as err:\n",
    "    print(err)\n",
    "    print(\"Error Code:\", err.errno)\n",
    "    print(\"SQLSTATE\", err.sqlstate)\n",
    "    print(\"Message\", err.msg)"
   ]
  },
  {
   "cell_type": "markdown",
   "metadata": {},
   "source": [
    "- **C.2.** TABLA 2: job_information"
   ]
  },
  {
   "cell_type": "markdown",
   "metadata": {},
   "source": [
    "- **C.3.** TABLA 3: job_compensation"
   ]
  },
  {
   "cell_type": "markdown",
   "metadata": {},
   "source": [
    "- **C.4.** TABLA 4: job_satisfaction"
   ]
  },
  {
   "cell_type": "markdown",
   "metadata": {},
   "source": [
    "- **D. CERRAR CONEXIÓN CON SQL**"
   ]
  },
  {
   "cell_type": "code",
   "execution_count": null,
   "metadata": {},
   "outputs": [],
   "source": [
    "# Cerrar el cursor y la conexión a la base de datos\n",
    "try:\n",
    "    # Si el cursor está abierto, cerrarlo\n",
    "    if mycursor:\n",
    "        mycursor.close()\n",
    "    \n",
    "    # Si la conexión está abierta, cerrarla\n",
    "    if cnx:\n",
    "        cnx.close()\n",
    "    \n",
    "    print(\"Conexión cerrada correctamente.\")\n",
    "except mysql.connector.Error as err:\n",
    "    print(\"Error al cerrar la conexión:\", err)"
   ]
  }
 ],
 "metadata": {
  "kernelspec": {
   "display_name": "base",
   "language": "python",
   "name": "python3"
  },
  "language_info": {
   "codemirror_mode": {
    "name": "ipython",
    "version": 3
   },
   "file_extension": ".py",
   "mimetype": "text/x-python",
   "name": "python",
   "nbconvert_exporter": "python",
   "pygments_lexer": "ipython3",
   "version": "3.9.12"
  }
 },
 "nbformat": 4,
 "nbformat_minor": 2
}
